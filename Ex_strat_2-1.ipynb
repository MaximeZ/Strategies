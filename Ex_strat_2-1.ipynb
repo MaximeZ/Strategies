{
 "cells": [
  {
   "cell_type": "markdown",
   "metadata": {},
   "source": [
    "# Задание 2.1. Тестирование стратегии статистического арбитража"
   ]
  },
  {
   "cell_type": "markdown",
   "metadata": {},
   "source": [
    "# Цель задания:\n",
    "### 1. Получить первичные навыки построения и тестирования стратегий\n",
    "### 2. Получить представление об основных инструментах языка Python (классы, функции)\n",
    "### 3. Реализовать стратегию статистического арбитража "
   ]
  },
  {
   "cell_type": "markdown",
   "metadata": {},
   "source": [
    "### Рекомендуемая литература:\n",
    "### 1.Y.Hilpish \"Python for Finance\"\n",
    "### 2.J.M. Weiming \"Mastering Python for Finance\"\n",
    "### 3.W. McKinney \"Python for Data Analysis\""
   ]
  },
  {
   "cell_type": "markdown",
   "metadata": {},
   "source": [
    "## 1. Загрузка библиотек"
   ]
  },
  {
   "cell_type": "code",
   "execution_count": 10,
   "metadata": {
    "collapsed": true
   },
   "outputs": [],
   "source": [
    "import numpy as np\n",
    "import pandas as pd"
   ]
  },
  {
   "cell_type": "code",
   "execution_count": 11,
   "metadata": {
    "collapsed": true
   },
   "outputs": [],
   "source": [
    "from scipy import stats # статистическая библиотека  "
   ]
  },
  {
   "cell_type": "code",
   "execution_count": 12,
   "metadata": {},
   "outputs": [],
   "source": [
    "from sklearn.linear_model import LinearRegression # регрессионный анализ  "
   ]
  },
  {
   "cell_type": "code",
   "execution_count": 13,
   "metadata": {
    "collapsed": true
   },
   "outputs": [],
   "source": [
    "from __future__ import division"
   ]
  },
  {
   "cell_type": "code",
   "execution_count": 14,
   "metadata": {
    "collapsed": true
   },
   "outputs": [],
   "source": [
    "import matplotlib.pyplot as plt # графическая библиотека\n",
    "%matplotlib inline "
   ]
  },
  {
   "cell_type": "code",
   "execution_count": 15,
   "metadata": {
    "collapsed": true
   },
   "outputs": [],
   "source": [
    "from datetime import datetime,timedelta # работа с форматом даты"
   ]
  },
  {
   "cell_type": "code",
   "execution_count": 16,
   "metadata": {
    "collapsed": true
   },
   "outputs": [],
   "source": [
    "import statsmodels.tsa.stattools as st ### анализ временных рядов"
   ]
  },
  {
   "cell_type": "markdown",
   "metadata": {},
   "source": [
    "## 2. Загрузка данных"
   ]
  },
  {
   "cell_type": "markdown",
   "metadata": {},
   "source": [
    "### В качестве примера будем использовать данные по индексам DJI и S&P"
   ]
  },
  {
   "cell_type": "code",
   "execution_count": 17,
   "metadata": {
    "collapsed": true
   },
   "outputs": [],
   "source": [
    "path='/home/maxime/Documentos/Strategies/'"
   ]
  },
  {
   "cell_type": "code",
   "execution_count": 18,
   "metadata": {
    "collapsed": true
   },
   "outputs": [],
   "source": [
    "dj=pd.read_csv(path+'^DJI.csv')"
   ]
  },
  {
   "cell_type": "code",
   "execution_count": 19,
   "metadata": {
    "collapsed": true
   },
   "outputs": [],
   "source": [
    "dj['Date']=dj['Date'].apply(lambda x:datetime.strptime(x, '%Y-%m-%d')) "
   ]
  },
  {
   "cell_type": "code",
   "execution_count": 20,
   "metadata": {
    "collapsed": true
   },
   "outputs": [],
   "source": [
    "sp=pd.read_csv(path+'^GSPC.csv')"
   ]
  },
  {
   "cell_type": "code",
   "execution_count": 21,
   "metadata": {
    "collapsed": true
   },
   "outputs": [],
   "source": [
    "sp['Date']=sp['Date'].apply(lambda x:datetime.strptime(x, '%Y-%m-%d')) "
   ]
  },
  {
   "cell_type": "code",
   "execution_count": 22,
   "metadata": {
    "collapsed": true
   },
   "outputs": [],
   "source": [
    "port=pd.merge(dj[['Date','Adj Close']],sp[['Date','Adj Close']],on=['Date'])"
   ]
  },
  {
   "cell_type": "code",
   "execution_count": 23,
   "metadata": {
    "collapsed": true
   },
   "outputs": [],
   "source": [
    "port.columns=['Date','DJ','SP']"
   ]
  },
  {
   "cell_type": "code",
   "execution_count": 24,
   "metadata": {},
   "outputs": [
    {
     "data": {
      "text/html": [
       "<div>\n",
       "<style scoped>\n",
       "    .dataframe tbody tr th:only-of-type {\n",
       "        vertical-align: middle;\n",
       "    }\n",
       "\n",
       "    .dataframe tbody tr th {\n",
       "        vertical-align: top;\n",
       "    }\n",
       "\n",
       "    .dataframe thead th {\n",
       "        text-align: right;\n",
       "    }\n",
       "</style>\n",
       "<table border=\"1\" class=\"dataframe\">\n",
       "  <thead>\n",
       "    <tr style=\"text-align: right;\">\n",
       "      <th></th>\n",
       "      <th>Date</th>\n",
       "      <th>DJ</th>\n",
       "      <th>SP</th>\n",
       "    </tr>\n",
       "  </thead>\n",
       "  <tbody>\n",
       "    <tr>\n",
       "      <th>0</th>\n",
       "      <td>2014-02-11</td>\n",
       "      <td>15994.769531</td>\n",
       "      <td>1819.750000</td>\n",
       "    </tr>\n",
       "    <tr>\n",
       "      <th>1</th>\n",
       "      <td>2014-02-12</td>\n",
       "      <td>15963.940430</td>\n",
       "      <td>1819.260010</td>\n",
       "    </tr>\n",
       "    <tr>\n",
       "      <th>2</th>\n",
       "      <td>2014-02-13</td>\n",
       "      <td>16027.589844</td>\n",
       "      <td>1829.829956</td>\n",
       "    </tr>\n",
       "    <tr>\n",
       "      <th>3</th>\n",
       "      <td>2014-02-14</td>\n",
       "      <td>16154.389648</td>\n",
       "      <td>1838.630005</td>\n",
       "    </tr>\n",
       "    <tr>\n",
       "      <th>4</th>\n",
       "      <td>2014-02-18</td>\n",
       "      <td>16130.400391</td>\n",
       "      <td>1840.760010</td>\n",
       "    </tr>\n",
       "  </tbody>\n",
       "</table>\n",
       "</div>"
      ],
      "text/plain": [
       "        Date            DJ           SP\n",
       "0 2014-02-11  15994.769531  1819.750000\n",
       "1 2014-02-12  15963.940430  1819.260010\n",
       "2 2014-02-13  16027.589844  1829.829956\n",
       "3 2014-02-14  16154.389648  1838.630005\n",
       "4 2014-02-18  16130.400391  1840.760010"
      ]
     },
     "execution_count": 24,
     "metadata": {},
     "output_type": "execute_result"
    }
   ],
   "source": [
    "port.head()"
   ]
  },
  {
   "cell_type": "code",
   "execution_count": 25,
   "metadata": {},
   "outputs": [
    {
     "data": {
      "image/png": "[encoded data removed]",
      "text/plain": [
       "<Figure size 720x432 with 1 Axes>"
      ]
     },
     "metadata": {},
     "output_type": "display_data"
    }
   ],
   "source": [
    "plt.figure(figsize=(10,6))\n",
    "_=plt.plot(port.Date,port.SP)\n",
    "_=plt.title('S&P',fontsize=18)"
   ]
  },
  {
   "cell_type": "code",
   "execution_count": 26,
   "metadata": {},
   "outputs": [
    {
     "data": {
      "image/png": "[encoded data removed]",
      "text/plain": [
       "<Figure size 720x432 with 1 Axes>"
      ]
     },
     "metadata": {},
     "output_type": "display_data"
    }
   ],
   "source": [
    "plt.figure(figsize=(10,6))\n",
    "_=plt.plot(port.Date,port.DJ)\n",
    "_=plt.title('DJI',fontsize=18)"
   ]
  },
  {
   "cell_type": "code",
   "execution_count": 27,
   "metadata": {},
   "outputs": [
    {
     "data": {
      "image/png": "[encoded data removed]",
      "text/plain": [
       "<Figure size 720x432 with 1 Axes>"
      ]
     },
     "metadata": {},
     "output_type": "display_data"
    }
   ],
   "source": [
    "plt.figure(figsize=(10,6))\n",
    "_=plt.plot(port.Date,np.log(port.DJ))\n",
    "_=plt.plot(port.Date,np.log(port.SP))\n",
    "_=plt.title('DJI vs S&P',fontsize=18)"
   ]
  },
  {
   "cell_type": "markdown",
   "metadata": {},
   "source": [
    "## 3. Проверка на стационарность"
   ]
  },
  {
   "cell_type": "code",
   "execution_count": 28,
   "metadata": {
    "collapsed": true
   },
   "outputs": [],
   "source": [
    "X=(np.array(np.log(port.DJ))).reshape(-1,1)"
   ]
  },
  {
   "cell_type": "code",
   "execution_count": 29,
   "metadata": {
    "collapsed": true
   },
   "outputs": [],
   "source": [
    "Y=(np.array(np.log(port.SP))).reshape(-1,1)"
   ]
  },
  {
   "cell_type": "code",
   "execution_count": 30,
   "metadata": {
    "collapsed": true
   },
   "outputs": [],
   "source": [
    "reg=LinearRegression(fit_intercept=False).fit(X,Y)"
   ]
  },
  {
   "cell_type": "code",
   "execution_count": 31,
   "metadata": {},
   "outputs": [
    {
     "data": {
      "text/plain": [
       "0.78058788885180208"
      ]
     },
     "execution_count": 31,
     "metadata": {},
     "output_type": "execute_result"
    }
   ],
   "source": [
    "(reg.coef_[0][0])"
   ]
  },
  {
   "cell_type": "code",
   "execution_count": 32,
   "metadata": {
    "collapsed": true
   },
   "outputs": [],
   "source": [
    "Y_hat=reg.predict(X)"
   ]
  },
  {
   "cell_type": "code",
   "execution_count": 33,
   "metadata": {
    "collapsed": true
   },
   "outputs": [],
   "source": [
    "Y_resid=Y-Y_hat"
   ]
  },
  {
   "cell_type": "code",
   "execution_count": 34,
   "metadata": {},
   "outputs": [
    {
     "data": {
      "text/plain": [
       "(1259,)"
      ]
     },
     "execution_count": 34,
     "metadata": {},
     "output_type": "execute_result"
    }
   ],
   "source": [
    "Y_resid.ravel().shape"
   ]
  },
  {
   "cell_type": "code",
   "execution_count": 35,
   "metadata": {},
   "outputs": [
    {
     "data": {
      "text/plain": [
       "(-0.00014503826116187923, 0.016724007559889374)"
      ]
     },
     "execution_count": 35,
     "metadata": {},
     "output_type": "execute_result"
    }
   ],
   "source": [
    "np.mean(Y_resid),np.std(Y_resid)"
   ]
  },
  {
   "cell_type": "code",
   "execution_count": 36,
   "metadata": {},
   "outputs": [
    {
     "data": {
      "text/plain": [
       "0.025283399661159882"
      ]
     },
     "execution_count": 36,
     "metadata": {},
     "output_type": "execute_result"
    }
   ],
   "source": [
    "st.adfuller(Y_resid.ravel())[1]"
   ]
  },
  {
   "cell_type": "code",
   "execution_count": 37,
   "metadata": {},
   "outputs": [
    {
     "data": {
      "text/plain": [
       "array([-0.00014504, -0.00014504, -0.00014504, ..., -0.00014504,\n",
       "       -0.00014504, -0.00014504])"
      ]
     },
     "execution_count": 37,
     "metadata": {},
     "output_type": "execute_result"
    }
   ],
   "source": [
    "np.repeat(np.mean(Y_resid),len(Y_resid))"
   ]
  },
  {
   "cell_type": "code",
   "execution_count": 38,
   "metadata": {},
   "outputs": [
    {
     "data": {
      "image/png": "[encoded data removed]",
      "text/plain": [
       "<Figure size 720x432 with 1 Axes>"
      ]
     },
     "metadata": {},
     "output_type": "display_data"
    }
   ],
   "source": [
    "k=1\n",
    "plt.figure(figsize=(10,6))\n",
    "_=plt.plot(Y_resid)\n",
    "_=plt.plot(np.repeat(np.mean(Y_resid),len(Y_resid)))\n",
    "_=plt.plot(np.repeat(np.std(Y_resid)*k,len(Y_resid)))\n",
    "_=plt.plot(np.repeat(np.std(Y_resid)*-k,len(Y_resid)))"
   ]
  },
  {
   "cell_type": "markdown",
   "metadata": {},
   "source": [
    "## 4. Полезные функции"
   ]
  },
  {
   "cell_type": "code",
   "execution_count": 39,
   "metadata": {
    "collapsed": true
   },
   "outputs": [],
   "source": [
    "# расчет остатков уравнения регрессии\n",
    "def reg_resid_func(Instr_1,Instr_2):\n",
    "    Y=np.log(Instr_1)\n",
    "    X=np.log(Instr_2)\n",
    "    reg=LinearRegression(fit_intercept=False)\n",
    "    reg.fit(X,Y)\n",
    "    Y_pred=reg.predict(X)\n",
    "    return((Y-Y_pred),reg.coef_[0][0])"
   ]
  },
  {
   "cell_type": "code",
   "execution_count": 40,
   "metadata": {
    "collapsed": true
   },
   "outputs": [],
   "source": [
    "# проверка на стационарность\n",
    "def stationarity_check_func(data_spread,alpha=0.05):\n",
    "    stationarity=False\n",
    "    if st.adfuller(data_spread.ravel())[1]<alpha:\n",
    "        stationarity=True\n",
    "    return stationarity   "
   ]
  },
  {
   "cell_type": "code",
   "execution_count": 41,
   "metadata": {
    "collapsed": true
   },
   "outputs": [],
   "source": [
    "# расчет параметров рапсределения спрэда\n",
    "def param_func(data_spread):\n",
    "    return (np.mean(data_spread),np.std(data_spread))"
   ]
  },
  {
   "cell_type": "code",
   "execution_count": 42,
   "metadata": {
    "collapsed": true
   },
   "outputs": [],
   "source": [
    "# получение сингала\n",
    "def signal_func_open(spread,mean,sigma,k):\n",
    "    signal='No'\n",
    "    if spread<=(mean-sigma*k):\n",
    "        signal='Buy'\n",
    "    elif spread>=mean+sigma*k:\n",
    "        signal='Sell'\n",
    "    return signal    "
   ]
  },
  {
   "cell_type": "code",
   "execution_count": 43,
   "metadata": {
    "collapsed": true
   },
   "outputs": [],
   "source": [
    "# преобазование значений цен в число с плавающей точкой\n",
    "def get_prices(instr1,instr2):\n",
    "    return (float(instr1),float(instr2))"
   ]
  },
  {
   "cell_type": "markdown",
   "metadata": {},
   "source": [
    "## 5. Создание класса для описания позиции"
   ]
  },
  {
   "cell_type": "markdown",
   "metadata": {},
   "source": [
    "### long:  first -buy, second-sell\n",
    "### short: first - sell, second-buy"
   ]
  },
  {
   "cell_type": "code",
   "execution_count": 44,
   "metadata": {
    "collapsed": true
   },
   "outputs": [],
   "source": [
    "class Position(object):\n",
    "    \n",
    "    def __init__(self):\n",
    "        self._initial_position=(None,None,0,0,0)\n",
    "        #date_initial,direction,price_1,price_2,beta,comission\n",
    "        self._close_position=(None,None,0,0,0)\n",
    "        #date_close,signal,price_1,price_2,comission\n",
    "\n",
    "    @property # вывод данных по открытию позиции\n",
    "    def initial_position(self):\n",
    "        return self._initial_position\n",
    "    \n",
    "    @initial_position.setter # ввод данных для открытия позиции\n",
    "    def initial_position(self, initial_position):\n",
    "        self._initial_position=initial_position\n",
    "        \n",
    "\n",
    "    @property # # вывод данных по закрытию позиции\n",
    "    def close_position(self):\n",
    "        return self._close_position\n",
    "        \n",
    "    \n",
    "    @close_position.setter # ввод данных для закрытия позиции\n",
    "    def close_position(self, close_position):\n",
    "        self._close_position=close_position\n",
    "        \n",
    "        \n",
    "    def get_result(self): # расчет результата\n",
    "        Date_setup,Direction,Instr_1_Price_initial,Instr_2_Price_initial,Beta,Comission_init=self._initial_position\n",
    "        Date_close,Close_type,Instr_1_Price_close,Instr_2_Price_close,Comission_close=self._close_position\n",
    "        if ((Date_setup==None)|(Date_close==None)):\n",
    "            return 0\n",
    "        else:\n",
    "            return ((np.log(Instr_1_Price_close)-np.log(Instr_1_Price_initial))\\\n",
    "                -(np.log(Instr_2_Price_close)-np.log(Instr_2_Price_initial))*Beta-Comission_init) if Direction=='Long'\\\n",
    "    else (-(np.log(Instr_1_Price_close)-np.log(Instr_1_Price_initial))\\\n",
    "          +(np.log(Instr_2_Price_close)-np.log(Instr_2_Price_initial))*Beta-Comission_close)"
   ]
  },
  {
   "cell_type": "code",
   "execution_count": 36,
   "metadata": {
    "collapsed": true
   },
   "outputs": [],
   "source": [
    "pos=Position()"
   ]
  },
  {
   "cell_type": "code",
   "execution_count": 37,
   "metadata": {
    "collapsed": true
   },
   "outputs": [],
   "source": [
    "initial_position=('2019-04-02','Short',5,6,1.1,0)"
   ]
  },
  {
   "cell_type": "code",
   "execution_count": 38,
   "metadata": {
    "collapsed": true
   },
   "outputs": [],
   "source": [
    "pos.initial_position=initial_position"
   ]
  },
  {
   "cell_type": "code",
   "execution_count": 39,
   "metadata": {},
   "outputs": [
    {
     "data": {
      "text/plain": [
       "('2019-04-02', 'Short', 5, 6, 1.1, 0)"
      ]
     },
     "execution_count": 39,
     "metadata": {},
     "output_type": "execute_result"
    }
   ],
   "source": [
    "pos.initial_position"
   ]
  },
  {
   "cell_type": "code",
   "execution_count": 40,
   "metadata": {
    "collapsed": true
   },
   "outputs": [],
   "source": [
    "pos.close_position=('2019-04-02','Signal',5,8,0)"
   ]
  },
  {
   "cell_type": "code",
   "execution_count": 41,
   "metadata": {},
   "outputs": [
    {
     "data": {
      "text/plain": [
       "('2019-04-02', 'Signal', 5, 8, 0)"
      ]
     },
     "execution_count": 41,
     "metadata": {},
     "output_type": "execute_result"
    }
   ],
   "source": [
    "pos.close_position"
   ]
  },
  {
   "cell_type": "code",
   "execution_count": 42,
   "metadata": {},
   "outputs": [
    {
     "data": {
      "text/plain": [
       "0.31645027969695888"
      ]
     },
     "execution_count": 42,
     "metadata": {},
     "output_type": "execute_result"
    }
   ],
   "source": [
    "pos.get_result()"
   ]
  },
  {
   "cell_type": "markdown",
   "metadata": {},
   "source": [
    "## 6. Реализация стратегии"
   ]
  },
  {
   "cell_type": "code",
   "execution_count": 45,
   "metadata": {
    "collapsed": true
   },
   "outputs": [],
   "source": [
    "port_reduced=port[(port.Date>'2015-01-01')&(port.Date<'2019-01-01')]"
   ]
  },
  {
   "cell_type": "code",
   "execution_count": 50,
   "metadata": {},
   "outputs": [
    {
     "data": {
      "text/plain": [
       "1006"
      ]
     },
     "execution_count": 50,
     "metadata": {},
     "output_type": "execute_result"
    }
   ],
   "source": [
    "n=port_reduced.shape[0]\n",
    "n"
   ]
  },
  {
   "cell_type": "code",
   "execution_count": 56,
   "metadata": {
    "collapsed": true
   },
   "outputs": [],
   "source": [
    "# преобразование первоначального массива цен в формат, необходимый для уравнения регрессии\n",
    "Instr_1=(np.array((port_reduced.iloc[0:,1]))).reshape(-1,1)\n",
    "Instr_2=(np.array((port_reduced.iloc[0:,2]))).reshape(-1,1)\n",
    "Date=list((port_reduced.iloc[0:,0]))"
   ]
  },
  {
   "cell_type": "code",
   "execution_count": 57,
   "metadata": {
    "collapsed": true
   },
   "outputs": [],
   "source": [
    "# инициализация параметров стратегии\n",
    "days_stationarity_check_max=20 # частота проверки на стационарность\n",
    "days_position_max=3 # количество дней, которые мы держим позицию\n",
    "window=250 # количество данных, используемых для проверки стационарности\n",
    "k=1.0# mu +/- k*sigma\n",
    "comission=0 # размер комиссиии\n",
    "stop_profit=0.0001"
   ]
  },
  {
   "cell_type": "code",
   "execution_count": 58,
   "metadata": {
    "collapsed": true
   },
   "outputs": [],
   "source": [
    "# инициализация переменных \n",
    "result=[] # массив для фиксации результатов\n",
    "stationarity_check=False\n",
    "pos_days=0\n",
    "i=window\n",
    "stationatity_check_index=window "
   ]
  },
  {
   "cell_type": "code",
   "execution_count": 59,
   "metadata": {},
   "outputs": [],
   "source": [
    "while ((i)<n):\n",
    "    #print(i)\n",
    "    if (pos_days==0):\n",
    "        if (((i-stationatity_check_index)>days_stationarity_check_max)|(i==window)):\n",
    "            resid,beta=reg_resid_func(Instr_1[(i-window):i],Instr_2[(i-window):i])\n",
    "            stationarity=stationarity_check_func(resid) # проверка на стационарность \n",
    "            if stationarity:\n",
    "                mean,sigma=param_func(resid)\n",
    "            stationatity_check_index=i\n",
    "        if stationarity: # если ряд стационарен, проверяем наличие сигнала\n",
    "            price_1,price_2=get_prices(Instr_1[i],Instr_2[i])\n",
    "            spread=float(np.log(price_1)-np.log(price_2)*beta)\n",
    "            #print(np.log(price_1),np.log(price_2),spread,mean,sigma,(mean+sigma*k),beta)\n",
    "            signal=signal_func_open(spread,mean,sigma,k)\n",
    "            #print(signal)\n",
    "            if (signal<>'No'):  # если есть сигнал, занимаем позицию            \n",
    "                pos_direction='Long' if signal=='Buy' else 'Short' \n",
    "                pos=Position() \n",
    "                pos.initial_position=(Date[i],pos_direction,price_1,price_2,beta,comission)\n",
    "                pos_days=1\n",
    "                i+=1\n",
    "            else: i+=1   \n",
    "        else: i+=1      \n",
    "    else:\n",
    "        price_1,price_2=get_prices(Instr_1[i],Instr_2[i])\n",
    "        if (pos_days<days_position_max):# если время позиции не превысило лимит, проверяем результат\n",
    "            pos.close_position=(Date[i],'Signal',price_1,price_2,comission)\n",
    "            res=pos.get_result()\n",
    "            if (res>stop_profit):# если результат положительный или stop-loss, закрываем позицию               \n",
    "                result.append(list(pos.initial_position)+list(pos.close_position)+[round(pos.get_result(),4)])\n",
    "                pos_days=0\n",
    "            else:\n",
    "                pos_days+=1\n",
    "                i+=1\n",
    "        else:\n",
    "            pos.close_position=(Date[i],'Time',price_1,price_2,comission)\n",
    "            # если время позиции превысило лимит, закрываем позицию\n",
    "            result.append(list(pos.initial_position)+list(pos.close_position)+[round(pos.get_result(),4)])\n",
    "            pos_days=0\n",
    "            #print('Time_close')"
   ]
  },
  {
   "cell_type": "code",
   "execution_count": 60,
   "metadata": {
    "collapsed": true
   },
   "outputs": [],
   "source": [
    "df=pd.DataFrame(result,columns=['Date_open','Direction','Price_1_init','Price_2_init','Beta','Comission_init',\\\n",
    "                        'Date_close','Type','Price_1_close','Price_2_close','Comission_close','Result'])\n",
    "# массив с результатами реализации стратегии"
   ]
  },
  {
   "cell_type": "code",
   "execution_count": 61,
   "metadata": {},
   "outputs": [
    {
     "data": {
      "text/html": [
       "<div>\n",
       "<style scoped>\n",
       "    .dataframe tbody tr th:only-of-type {\n",
       "        vertical-align: middle;\n",
       "    }\n",
       "\n",
       "    .dataframe tbody tr th {\n",
       "        vertical-align: top;\n",
       "    }\n",
       "\n",
       "    .dataframe thead th {\n",
       "        text-align: right;\n",
       "    }\n",
       "</style>\n",
       "<table border=\"1\" class=\"dataframe\">\n",
       "  <thead>\n",
       "    <tr style=\"text-align: right;\">\n",
       "      <th></th>\n",
       "      <th>Date_open</th>\n",
       "      <th>Direction</th>\n",
       "      <th>Price_1_init</th>\n",
       "      <th>Price_2_init</th>\n",
       "      <th>Beta</th>\n",
       "      <th>Comission_init</th>\n",
       "      <th>Date_close</th>\n",
       "      <th>Type</th>\n",
       "      <th>Price_1_close</th>\n",
       "      <th>Price_2_close</th>\n",
       "      <th>Comission_close</th>\n",
       "      <th>Result</th>\n",
       "    </tr>\n",
       "  </thead>\n",
       "  <tbody>\n",
       "    <tr>\n",
       "      <th>0</th>\n",
       "      <td>2016-01-07</td>\n",
       "      <td>Short</td>\n",
       "      <td>16514.099609</td>\n",
       "      <td>1943.089966</td>\n",
       "      <td>1.280944</td>\n",
       "      <td>0</td>\n",
       "      <td>2016-01-12</td>\n",
       "      <td>Time</td>\n",
       "      <td>16516.220703</td>\n",
       "      <td>1938.680054</td>\n",
       "      <td>0</td>\n",
       "      <td>-0.0030</td>\n",
       "    </tr>\n",
       "    <tr>\n",
       "      <th>1</th>\n",
       "      <td>2016-01-12</td>\n",
       "      <td>Short</td>\n",
       "      <td>16516.220703</td>\n",
       "      <td>1938.680054</td>\n",
       "      <td>1.280944</td>\n",
       "      <td>0</td>\n",
       "      <td>2016-01-15</td>\n",
       "      <td>Time</td>\n",
       "      <td>15988.080078</td>\n",
       "      <td>1880.329956</td>\n",
       "      <td>0</td>\n",
       "      <td>-0.0066</td>\n",
       "    </tr>\n",
       "    <tr>\n",
       "      <th>2</th>\n",
       "      <td>2016-01-15</td>\n",
       "      <td>Short</td>\n",
       "      <td>15988.080078</td>\n",
       "      <td>1880.329956</td>\n",
       "      <td>1.280944</td>\n",
       "      <td>0</td>\n",
       "      <td>2016-01-21</td>\n",
       "      <td>Time</td>\n",
       "      <td>15882.679688</td>\n",
       "      <td>1868.989990</td>\n",
       "      <td>0</td>\n",
       "      <td>-0.0011</td>\n",
       "    </tr>\n",
       "    <tr>\n",
       "      <th>3</th>\n",
       "      <td>2016-01-21</td>\n",
       "      <td>Short</td>\n",
       "      <td>15882.679688</td>\n",
       "      <td>1868.989990</td>\n",
       "      <td>1.280944</td>\n",
       "      <td>0</td>\n",
       "      <td>2016-01-22</td>\n",
       "      <td>Signal</td>\n",
       "      <td>16093.509766</td>\n",
       "      <td>1906.900024</td>\n",
       "      <td>0</td>\n",
       "      <td>0.0125</td>\n",
       "    </tr>\n",
       "    <tr>\n",
       "      <th>4</th>\n",
       "      <td>2016-01-22</td>\n",
       "      <td>Short</td>\n",
       "      <td>16093.509766</td>\n",
       "      <td>1906.900024</td>\n",
       "      <td>1.280944</td>\n",
       "      <td>0</td>\n",
       "      <td>2016-01-27</td>\n",
       "      <td>Time</td>\n",
       "      <td>15944.459961</td>\n",
       "      <td>1882.949951</td>\n",
       "      <td>0</td>\n",
       "      <td>-0.0069</td>\n",
       "    </tr>\n",
       "    <tr>\n",
       "      <th>5</th>\n",
       "      <td>2016-01-27</td>\n",
       "      <td>Short</td>\n",
       "      <td>15944.459961</td>\n",
       "      <td>1882.949951</td>\n",
       "      <td>1.280944</td>\n",
       "      <td>0</td>\n",
       "      <td>2016-01-29</td>\n",
       "      <td>Signal</td>\n",
       "      <td>16466.300781</td>\n",
       "      <td>1940.239990</td>\n",
       "      <td>0</td>\n",
       "      <td>0.0062</td>\n",
       "    </tr>\n",
       "    <tr>\n",
       "      <th>6</th>\n",
       "      <td>2016-01-29</td>\n",
       "      <td>Short</td>\n",
       "      <td>16466.300781</td>\n",
       "      <td>1940.239990</td>\n",
       "      <td>1.280944</td>\n",
       "      <td>0</td>\n",
       "      <td>2016-02-01</td>\n",
       "      <td>Signal</td>\n",
       "      <td>16449.179688</td>\n",
       "      <td>1939.380005</td>\n",
       "      <td>0</td>\n",
       "      <td>0.0005</td>\n",
       "    </tr>\n",
       "    <tr>\n",
       "      <th>7</th>\n",
       "      <td>2016-02-01</td>\n",
       "      <td>Short</td>\n",
       "      <td>16449.179688</td>\n",
       "      <td>1939.380005</td>\n",
       "      <td>1.280908</td>\n",
       "      <td>0</td>\n",
       "      <td>2016-02-04</td>\n",
       "      <td>Time</td>\n",
       "      <td>16416.580078</td>\n",
       "      <td>1915.449951</td>\n",
       "      <td>0</td>\n",
       "      <td>-0.0139</td>\n",
       "    </tr>\n",
       "    <tr>\n",
       "      <th>8</th>\n",
       "      <td>2016-02-04</td>\n",
       "      <td>Short</td>\n",
       "      <td>16416.580078</td>\n",
       "      <td>1915.449951</td>\n",
       "      <td>1.280908</td>\n",
       "      <td>0</td>\n",
       "      <td>2016-02-09</td>\n",
       "      <td>Time</td>\n",
       "      <td>16014.379883</td>\n",
       "      <td>1852.209961</td>\n",
       "      <td>0</td>\n",
       "      <td>-0.0182</td>\n",
       "    </tr>\n",
       "    <tr>\n",
       "      <th>9</th>\n",
       "      <td>2016-02-09</td>\n",
       "      <td>Short</td>\n",
       "      <td>16014.379883</td>\n",
       "      <td>1852.209961</td>\n",
       "      <td>1.280908</td>\n",
       "      <td>0</td>\n",
       "      <td>2016-02-10</td>\n",
       "      <td>Signal</td>\n",
       "      <td>15914.740234</td>\n",
       "      <td>1851.859985</td>\n",
       "      <td>0</td>\n",
       "      <td>0.0060</td>\n",
       "    </tr>\n",
       "    <tr>\n",
       "      <th>10</th>\n",
       "      <td>2016-02-10</td>\n",
       "      <td>Short</td>\n",
       "      <td>15914.740234</td>\n",
       "      <td>1851.859985</td>\n",
       "      <td>1.280908</td>\n",
       "      <td>0</td>\n",
       "      <td>2016-02-11</td>\n",
       "      <td>Signal</td>\n",
       "      <td>15660.179688</td>\n",
       "      <td>1829.079956</td>\n",
       "      <td>0</td>\n",
       "      <td>0.0003</td>\n",
       "    </tr>\n",
       "    <tr>\n",
       "      <th>11</th>\n",
       "      <td>2016-02-11</td>\n",
       "      <td>Short</td>\n",
       "      <td>15660.179688</td>\n",
       "      <td>1829.079956</td>\n",
       "      <td>1.280908</td>\n",
       "      <td>0</td>\n",
       "      <td>2016-02-12</td>\n",
       "      <td>Signal</td>\n",
       "      <td>15973.839844</td>\n",
       "      <td>1864.780029</td>\n",
       "      <td>0</td>\n",
       "      <td>0.0049</td>\n",
       "    </tr>\n",
       "    <tr>\n",
       "      <th>12</th>\n",
       "      <td>2016-02-12</td>\n",
       "      <td>Short</td>\n",
       "      <td>15973.839844</td>\n",
       "      <td>1864.780029</td>\n",
       "      <td>1.280908</td>\n",
       "      <td>0</td>\n",
       "      <td>2016-02-16</td>\n",
       "      <td>Signal</td>\n",
       "      <td>16196.410156</td>\n",
       "      <td>1895.579956</td>\n",
       "      <td>0</td>\n",
       "      <td>0.0071</td>\n",
       "    </tr>\n",
       "    <tr>\n",
       "      <th>13</th>\n",
       "      <td>2016-02-16</td>\n",
       "      <td>Short</td>\n",
       "      <td>16196.410156</td>\n",
       "      <td>1895.579956</td>\n",
       "      <td>1.280908</td>\n",
       "      <td>0</td>\n",
       "      <td>2016-02-17</td>\n",
       "      <td>Signal</td>\n",
       "      <td>16453.830078</td>\n",
       "      <td>1926.819946</td>\n",
       "      <td>0</td>\n",
       "      <td>0.0052</td>\n",
       "    </tr>\n",
       "    <tr>\n",
       "      <th>14</th>\n",
       "      <td>2016-02-17</td>\n",
       "      <td>Short</td>\n",
       "      <td>16453.830078</td>\n",
       "      <td>1926.819946</td>\n",
       "      <td>1.280908</td>\n",
       "      <td>0</td>\n",
       "      <td>2016-02-22</td>\n",
       "      <td>Time</td>\n",
       "      <td>16620.660156</td>\n",
       "      <td>1945.500000</td>\n",
       "      <td>0</td>\n",
       "      <td>0.0023</td>\n",
       "    </tr>\n",
       "    <tr>\n",
       "      <th>15</th>\n",
       "      <td>2016-02-22</td>\n",
       "      <td>Short</td>\n",
       "      <td>16620.660156</td>\n",
       "      <td>1945.500000</td>\n",
       "      <td>1.280908</td>\n",
       "      <td>0</td>\n",
       "      <td>2016-02-25</td>\n",
       "      <td>Time</td>\n",
       "      <td>16697.289063</td>\n",
       "      <td>1951.699951</td>\n",
       "      <td>0</td>\n",
       "      <td>-0.0005</td>\n",
       "    </tr>\n",
       "    <tr>\n",
       "      <th>16</th>\n",
       "      <td>2016-02-25</td>\n",
       "      <td>Short</td>\n",
       "      <td>16697.289063</td>\n",
       "      <td>1951.699951</td>\n",
       "      <td>1.280908</td>\n",
       "      <td>0</td>\n",
       "      <td>2016-02-26</td>\n",
       "      <td>Signal</td>\n",
       "      <td>16639.970703</td>\n",
       "      <td>1948.050049</td>\n",
       "      <td>0</td>\n",
       "      <td>0.0010</td>\n",
       "    </tr>\n",
       "    <tr>\n",
       "      <th>17</th>\n",
       "      <td>2016-02-26</td>\n",
       "      <td>Short</td>\n",
       "      <td>16639.970703</td>\n",
       "      <td>1948.050049</td>\n",
       "      <td>1.280908</td>\n",
       "      <td>0</td>\n",
       "      <td>2016-03-01</td>\n",
       "      <td>Signal</td>\n",
       "      <td>16865.080078</td>\n",
       "      <td>1978.349976</td>\n",
       "      <td>0</td>\n",
       "      <td>0.0063</td>\n",
       "    </tr>\n",
       "    <tr>\n",
       "      <th>18</th>\n",
       "      <td>2016-03-01</td>\n",
       "      <td>Short</td>\n",
       "      <td>16865.080078</td>\n",
       "      <td>1978.349976</td>\n",
       "      <td>1.280908</td>\n",
       "      <td>0</td>\n",
       "      <td>2016-03-02</td>\n",
       "      <td>Signal</td>\n",
       "      <td>16899.320313</td>\n",
       "      <td>1986.449951</td>\n",
       "      <td>0</td>\n",
       "      <td>0.0032</td>\n",
       "    </tr>\n",
       "    <tr>\n",
       "      <th>19</th>\n",
       "      <td>2016-07-08</td>\n",
       "      <td>Long</td>\n",
       "      <td>18146.740234</td>\n",
       "      <td>2129.899902</td>\n",
       "      <td>1.281213</td>\n",
       "      <td>0</td>\n",
       "      <td>2016-07-13</td>\n",
       "      <td>Time</td>\n",
       "      <td>18372.119141</td>\n",
       "      <td>2152.429932</td>\n",
       "      <td>0</td>\n",
       "      <td>-0.0011</td>\n",
       "    </tr>\n",
       "    <tr>\n",
       "      <th>20</th>\n",
       "      <td>2016-07-13</td>\n",
       "      <td>Long</td>\n",
       "      <td>18372.119141</td>\n",
       "      <td>2152.429932</td>\n",
       "      <td>1.281213</td>\n",
       "      <td>0</td>\n",
       "      <td>2016-07-14</td>\n",
       "      <td>Signal</td>\n",
       "      <td>18506.410156</td>\n",
       "      <td>2163.750000</td>\n",
       "      <td>0</td>\n",
       "      <td>0.0006</td>\n",
       "    </tr>\n",
       "    <tr>\n",
       "      <th>21</th>\n",
       "      <td>2016-07-14</td>\n",
       "      <td>Long</td>\n",
       "      <td>18506.410156</td>\n",
       "      <td>2163.750000</td>\n",
       "      <td>1.281213</td>\n",
       "      <td>0</td>\n",
       "      <td>2016-07-15</td>\n",
       "      <td>Signal</td>\n",
       "      <td>18516.550781</td>\n",
       "      <td>2161.739990</td>\n",
       "      <td>0</td>\n",
       "      <td>0.0017</td>\n",
       "    </tr>\n",
       "    <tr>\n",
       "      <th>22</th>\n",
       "      <td>2016-07-18</td>\n",
       "      <td>Long</td>\n",
       "      <td>18533.050781</td>\n",
       "      <td>2166.889893</td>\n",
       "      <td>1.281213</td>\n",
       "      <td>0</td>\n",
       "      <td>2016-07-19</td>\n",
       "      <td>Signal</td>\n",
       "      <td>18559.009766</td>\n",
       "      <td>2163.780029</td>\n",
       "      <td>0</td>\n",
       "      <td>0.0032</td>\n",
       "    </tr>\n",
       "    <tr>\n",
       "      <th>23</th>\n",
       "      <td>2016-07-20</td>\n",
       "      <td>Long</td>\n",
       "      <td>18595.029297</td>\n",
       "      <td>2173.020020</td>\n",
       "      <td>1.281213</td>\n",
       "      <td>0</td>\n",
       "      <td>2016-07-21</td>\n",
       "      <td>Signal</td>\n",
       "      <td>18517.230469</td>\n",
       "      <td>2165.169922</td>\n",
       "      <td>0</td>\n",
       "      <td>0.0004</td>\n",
       "    </tr>\n",
       "    <tr>\n",
       "      <th>24</th>\n",
       "      <td>2016-07-21</td>\n",
       "      <td>Long</td>\n",
       "      <td>18517.230469</td>\n",
       "      <td>2165.169922</td>\n",
       "      <td>1.281213</td>\n",
       "      <td>0</td>\n",
       "      <td>2016-07-26</td>\n",
       "      <td>Time</td>\n",
       "      <td>18473.750000</td>\n",
       "      <td>2169.179932</td>\n",
       "      <td>0</td>\n",
       "      <td>-0.0047</td>\n",
       "    </tr>\n",
       "    <tr>\n",
       "      <th>25</th>\n",
       "      <td>2016-07-26</td>\n",
       "      <td>Long</td>\n",
       "      <td>18473.750000</td>\n",
       "      <td>2169.179932</td>\n",
       "      <td>1.281213</td>\n",
       "      <td>0</td>\n",
       "      <td>2016-07-27</td>\n",
       "      <td>Signal</td>\n",
       "      <td>18472.169922</td>\n",
       "      <td>2166.580078</td>\n",
       "      <td>0</td>\n",
       "      <td>0.0015</td>\n",
       "    </tr>\n",
       "    <tr>\n",
       "      <th>26</th>\n",
       "      <td>2016-07-27</td>\n",
       "      <td>Long</td>\n",
       "      <td>18472.169922</td>\n",
       "      <td>2166.580078</td>\n",
       "      <td>1.281213</td>\n",
       "      <td>0</td>\n",
       "      <td>2016-08-01</td>\n",
       "      <td>Time</td>\n",
       "      <td>18404.509766</td>\n",
       "      <td>2170.840088</td>\n",
       "      <td>0</td>\n",
       "      <td>-0.0062</td>\n",
       "    </tr>\n",
       "    <tr>\n",
       "      <th>27</th>\n",
       "      <td>2017-11-30</td>\n",
       "      <td>Short</td>\n",
       "      <td>24272.349609</td>\n",
       "      <td>2647.580078</td>\n",
       "      <td>1.279781</td>\n",
       "      <td>0</td>\n",
       "      <td>2017-12-05</td>\n",
       "      <td>Time</td>\n",
       "      <td>24180.640625</td>\n",
       "      <td>2629.570068</td>\n",
       "      <td>0</td>\n",
       "      <td>-0.0049</td>\n",
       "    </tr>\n",
       "    <tr>\n",
       "      <th>28</th>\n",
       "      <td>2017-12-05</td>\n",
       "      <td>Short</td>\n",
       "      <td>24180.640625</td>\n",
       "      <td>2629.570068</td>\n",
       "      <td>1.279781</td>\n",
       "      <td>0</td>\n",
       "      <td>2017-12-06</td>\n",
       "      <td>Signal</td>\n",
       "      <td>24140.910156</td>\n",
       "      <td>2629.270020</td>\n",
       "      <td>0</td>\n",
       "      <td>0.0015</td>\n",
       "    </tr>\n",
       "    <tr>\n",
       "      <th>29</th>\n",
       "      <td>2017-12-06</td>\n",
       "      <td>Short</td>\n",
       "      <td>24140.910156</td>\n",
       "      <td>2629.270020</td>\n",
       "      <td>1.279781</td>\n",
       "      <td>0</td>\n",
       "      <td>2017-12-07</td>\n",
       "      <td>Signal</td>\n",
       "      <td>24211.480469</td>\n",
       "      <td>2636.979980</td>\n",
       "      <td>0</td>\n",
       "      <td>0.0008</td>\n",
       "    </tr>\n",
       "    <tr>\n",
       "      <th>30</th>\n",
       "      <td>2017-12-07</td>\n",
       "      <td>Short</td>\n",
       "      <td>24211.480469</td>\n",
       "      <td>2636.979980</td>\n",
       "      <td>1.279781</td>\n",
       "      <td>0</td>\n",
       "      <td>2017-12-08</td>\n",
       "      <td>Signal</td>\n",
       "      <td>24329.160156</td>\n",
       "      <td>2651.500000</td>\n",
       "      <td>0</td>\n",
       "      <td>0.0022</td>\n",
       "    </tr>\n",
       "    <tr>\n",
       "      <th>31</th>\n",
       "      <td>2017-12-08</td>\n",
       "      <td>Short</td>\n",
       "      <td>24329.160156</td>\n",
       "      <td>2651.500000</td>\n",
       "      <td>1.279781</td>\n",
       "      <td>0</td>\n",
       "      <td>2017-12-11</td>\n",
       "      <td>Signal</td>\n",
       "      <td>24386.029297</td>\n",
       "      <td>2659.989990</td>\n",
       "      <td>0</td>\n",
       "      <td>0.0018</td>\n",
       "    </tr>\n",
       "    <tr>\n",
       "      <th>32</th>\n",
       "      <td>2017-12-11</td>\n",
       "      <td>Short</td>\n",
       "      <td>24386.029297</td>\n",
       "      <td>2659.989990</td>\n",
       "      <td>1.279781</td>\n",
       "      <td>0</td>\n",
       "      <td>2017-12-14</td>\n",
       "      <td>Time</td>\n",
       "      <td>24508.660156</td>\n",
       "      <td>2652.010010</td>\n",
       "      <td>0</td>\n",
       "      <td>-0.0089</td>\n",
       "    </tr>\n",
       "    <tr>\n",
       "      <th>33</th>\n",
       "      <td>2017-12-14</td>\n",
       "      <td>Short</td>\n",
       "      <td>24508.660156</td>\n",
       "      <td>2652.010010</td>\n",
       "      <td>1.279781</td>\n",
       "      <td>0</td>\n",
       "      <td>2017-12-15</td>\n",
       "      <td>Signal</td>\n",
       "      <td>24651.740234</td>\n",
       "      <td>2675.810059</td>\n",
       "      <td>0</td>\n",
       "      <td>0.0056</td>\n",
       "    </tr>\n",
       "    <tr>\n",
       "      <th>34</th>\n",
       "      <td>2017-12-15</td>\n",
       "      <td>Short</td>\n",
       "      <td>24651.740234</td>\n",
       "      <td>2675.810059</td>\n",
       "      <td>1.279781</td>\n",
       "      <td>0</td>\n",
       "      <td>2017-12-18</td>\n",
       "      <td>Signal</td>\n",
       "      <td>24792.199219</td>\n",
       "      <td>2690.159912</td>\n",
       "      <td>0</td>\n",
       "      <td>0.0012</td>\n",
       "    </tr>\n",
       "    <tr>\n",
       "      <th>35</th>\n",
       "      <td>2017-12-18</td>\n",
       "      <td>Short</td>\n",
       "      <td>24792.199219</td>\n",
       "      <td>2690.159912</td>\n",
       "      <td>1.279781</td>\n",
       "      <td>0</td>\n",
       "      <td>2017-12-21</td>\n",
       "      <td>Time</td>\n",
       "      <td>24782.289063</td>\n",
       "      <td>2684.570068</td>\n",
       "      <td>0</td>\n",
       "      <td>-0.0023</td>\n",
       "    </tr>\n",
       "    <tr>\n",
       "      <th>36</th>\n",
       "      <td>2017-12-21</td>\n",
       "      <td>Short</td>\n",
       "      <td>24782.289063</td>\n",
       "      <td>2684.570068</td>\n",
       "      <td>1.279781</td>\n",
       "      <td>0</td>\n",
       "      <td>2017-12-22</td>\n",
       "      <td>Signal</td>\n",
       "      <td>24754.060547</td>\n",
       "      <td>2683.340088</td>\n",
       "      <td>0</td>\n",
       "      <td>0.0006</td>\n",
       "    </tr>\n",
       "    <tr>\n",
       "      <th>37</th>\n",
       "      <td>2017-12-22</td>\n",
       "      <td>Short</td>\n",
       "      <td>24754.060547</td>\n",
       "      <td>2683.340088</td>\n",
       "      <td>1.279781</td>\n",
       "      <td>0</td>\n",
       "      <td>2017-12-28</td>\n",
       "      <td>Time</td>\n",
       "      <td>24837.509766</td>\n",
       "      <td>2687.540039</td>\n",
       "      <td>0</td>\n",
       "      <td>-0.0014</td>\n",
       "    </tr>\n",
       "    <tr>\n",
       "      <th>38</th>\n",
       "      <td>2017-12-28</td>\n",
       "      <td>Short</td>\n",
       "      <td>24837.509766</td>\n",
       "      <td>2687.540039</td>\n",
       "      <td>1.279781</td>\n",
       "      <td>0</td>\n",
       "      <td>2018-01-02</td>\n",
       "      <td>Signal</td>\n",
       "      <td>24824.009766</td>\n",
       "      <td>2695.810059</td>\n",
       "      <td>0</td>\n",
       "      <td>0.0045</td>\n",
       "    </tr>\n",
       "    <tr>\n",
       "      <th>39</th>\n",
       "      <td>2018-04-04</td>\n",
       "      <td>Short</td>\n",
       "      <td>24264.300781</td>\n",
       "      <td>2644.689941</td>\n",
       "      <td>1.279864</td>\n",
       "      <td>0</td>\n",
       "      <td>2018-04-09</td>\n",
       "      <td>Time</td>\n",
       "      <td>23979.099609</td>\n",
       "      <td>2613.159912</td>\n",
       "      <td>0</td>\n",
       "      <td>-0.0035</td>\n",
       "    </tr>\n",
       "    <tr>\n",
       "      <th>40</th>\n",
       "      <td>2018-04-09</td>\n",
       "      <td>Short</td>\n",
       "      <td>23979.099609</td>\n",
       "      <td>2613.159912</td>\n",
       "      <td>1.279864</td>\n",
       "      <td>0</td>\n",
       "      <td>2018-04-10</td>\n",
       "      <td>Signal</td>\n",
       "      <td>24408.000000</td>\n",
       "      <td>2656.870117</td>\n",
       "      <td>0</td>\n",
       "      <td>0.0035</td>\n",
       "    </tr>\n",
       "    <tr>\n",
       "      <th>41</th>\n",
       "      <td>2018-04-10</td>\n",
       "      <td>Short</td>\n",
       "      <td>24408.000000</td>\n",
       "      <td>2656.870117</td>\n",
       "      <td>1.279864</td>\n",
       "      <td>0</td>\n",
       "      <td>2018-04-11</td>\n",
       "      <td>Signal</td>\n",
       "      <td>24189.449219</td>\n",
       "      <td>2642.189941</td>\n",
       "      <td>0</td>\n",
       "      <td>0.0019</td>\n",
       "    </tr>\n",
       "    <tr>\n",
       "      <th>42</th>\n",
       "      <td>2018-04-12</td>\n",
       "      <td>Short</td>\n",
       "      <td>24483.050781</td>\n",
       "      <td>2663.989990</td>\n",
       "      <td>1.279864</td>\n",
       "      <td>0</td>\n",
       "      <td>2018-04-13</td>\n",
       "      <td>Signal</td>\n",
       "      <td>24360.140625</td>\n",
       "      <td>2656.300049</td>\n",
       "      <td>0</td>\n",
       "      <td>0.0013</td>\n",
       "    </tr>\n",
       "    <tr>\n",
       "      <th>43</th>\n",
       "      <td>2018-05-30</td>\n",
       "      <td>Long</td>\n",
       "      <td>24667.779297</td>\n",
       "      <td>2724.010010</td>\n",
       "      <td>1.279971</td>\n",
       "      <td>0</td>\n",
       "      <td>2018-06-04</td>\n",
       "      <td>Time</td>\n",
       "      <td>24813.689453</td>\n",
       "      <td>2746.870117</td>\n",
       "      <td>0</td>\n",
       "      <td>-0.0048</td>\n",
       "    </tr>\n",
       "    <tr>\n",
       "      <th>44</th>\n",
       "      <td>2018-06-04</td>\n",
       "      <td>Long</td>\n",
       "      <td>24813.689453</td>\n",
       "      <td>2746.870117</td>\n",
       "      <td>1.280046</td>\n",
       "      <td>0</td>\n",
       "      <td>2018-06-06</td>\n",
       "      <td>Signal</td>\n",
       "      <td>25146.390625</td>\n",
       "      <td>2772.350098</td>\n",
       "      <td>0</td>\n",
       "      <td>0.0015</td>\n",
       "    </tr>\n",
       "    <tr>\n",
       "      <th>45</th>\n",
       "      <td>2018-06-06</td>\n",
       "      <td>Long</td>\n",
       "      <td>25146.390625</td>\n",
       "      <td>2772.350098</td>\n",
       "      <td>1.280046</td>\n",
       "      <td>0</td>\n",
       "      <td>2018-06-07</td>\n",
       "      <td>Signal</td>\n",
       "      <td>25241.410156</td>\n",
       "      <td>2770.370117</td>\n",
       "      <td>0</td>\n",
       "      <td>0.0047</td>\n",
       "    </tr>\n",
       "    <tr>\n",
       "      <th>46</th>\n",
       "      <td>2018-06-07</td>\n",
       "      <td>Long</td>\n",
       "      <td>25241.410156</td>\n",
       "      <td>2770.370117</td>\n",
       "      <td>1.280046</td>\n",
       "      <td>0</td>\n",
       "      <td>2018-06-12</td>\n",
       "      <td>Time</td>\n",
       "      <td>25320.730469</td>\n",
       "      <td>2786.850098</td>\n",
       "      <td>0</td>\n",
       "      <td>-0.0045</td>\n",
       "    </tr>\n",
       "    <tr>\n",
       "      <th>47</th>\n",
       "      <td>2018-06-12</td>\n",
       "      <td>Long</td>\n",
       "      <td>25320.730469</td>\n",
       "      <td>2786.850098</td>\n",
       "      <td>1.280046</td>\n",
       "      <td>0</td>\n",
       "      <td>2018-06-13</td>\n",
       "      <td>Signal</td>\n",
       "      <td>25201.199219</td>\n",
       "      <td>2775.629883</td>\n",
       "      <td>0</td>\n",
       "      <td>0.0004</td>\n",
       "    </tr>\n",
       "    <tr>\n",
       "      <th>48</th>\n",
       "      <td>2018-06-13</td>\n",
       "      <td>Long</td>\n",
       "      <td>25201.199219</td>\n",
       "      <td>2775.629883</td>\n",
       "      <td>1.280046</td>\n",
       "      <td>0</td>\n",
       "      <td>2018-06-18</td>\n",
       "      <td>Time</td>\n",
       "      <td>24987.470703</td>\n",
       "      <td>2773.750000</td>\n",
       "      <td>0</td>\n",
       "      <td>-0.0076</td>\n",
       "    </tr>\n",
       "    <tr>\n",
       "      <th>49</th>\n",
       "      <td>2018-06-18</td>\n",
       "      <td>Long</td>\n",
       "      <td>24987.470703</td>\n",
       "      <td>2773.750000</td>\n",
       "      <td>1.280046</td>\n",
       "      <td>0</td>\n",
       "      <td>2018-06-21</td>\n",
       "      <td>Time</td>\n",
       "      <td>24461.699219</td>\n",
       "      <td>2749.760010</td>\n",
       "      <td>0</td>\n",
       "      <td>-0.0101</td>\n",
       "    </tr>\n",
       "    <tr>\n",
       "      <th>50</th>\n",
       "      <td>2018-06-21</td>\n",
       "      <td>Long</td>\n",
       "      <td>24461.699219</td>\n",
       "      <td>2749.760010</td>\n",
       "      <td>1.280046</td>\n",
       "      <td>0</td>\n",
       "      <td>2018-06-22</td>\n",
       "      <td>Signal</td>\n",
       "      <td>24580.890625</td>\n",
       "      <td>2754.879883</td>\n",
       "      <td>0</td>\n",
       "      <td>0.0025</td>\n",
       "    </tr>\n",
       "    <tr>\n",
       "      <th>51</th>\n",
       "      <td>2018-06-22</td>\n",
       "      <td>Long</td>\n",
       "      <td>24580.890625</td>\n",
       "      <td>2754.879883</td>\n",
       "      <td>1.280046</td>\n",
       "      <td>0</td>\n",
       "      <td>2018-06-25</td>\n",
       "      <td>Signal</td>\n",
       "      <td>24252.800781</td>\n",
       "      <td>2717.070068</td>\n",
       "      <td>0</td>\n",
       "      <td>0.0043</td>\n",
       "    </tr>\n",
       "    <tr>\n",
       "      <th>52</th>\n",
       "      <td>2018-06-25</td>\n",
       "      <td>Long</td>\n",
       "      <td>24252.800781</td>\n",
       "      <td>2717.070068</td>\n",
       "      <td>1.280046</td>\n",
       "      <td>0</td>\n",
       "      <td>2018-06-27</td>\n",
       "      <td>Signal</td>\n",
       "      <td>24117.589844</td>\n",
       "      <td>2699.629883</td>\n",
       "      <td>0</td>\n",
       "      <td>0.0027</td>\n",
       "    </tr>\n",
       "    <tr>\n",
       "      <th>53</th>\n",
       "      <td>2018-06-27</td>\n",
       "      <td>Long</td>\n",
       "      <td>24117.589844</td>\n",
       "      <td>2699.629883</td>\n",
       "      <td>1.280046</td>\n",
       "      <td>0</td>\n",
       "      <td>2018-07-02</td>\n",
       "      <td>Time</td>\n",
       "      <td>24307.179688</td>\n",
       "      <td>2726.709961</td>\n",
       "      <td>0</td>\n",
       "      <td>-0.0049</td>\n",
       "    </tr>\n",
       "    <tr>\n",
       "      <th>54</th>\n",
       "      <td>2018-07-02</td>\n",
       "      <td>Long</td>\n",
       "      <td>24307.179688</td>\n",
       "      <td>2726.709961</td>\n",
       "      <td>1.280046</td>\n",
       "      <td>0</td>\n",
       "      <td>2018-07-03</td>\n",
       "      <td>Signal</td>\n",
       "      <td>24174.820313</td>\n",
       "      <td>2713.219971</td>\n",
       "      <td>0</td>\n",
       "      <td>0.0009</td>\n",
       "    </tr>\n",
       "  </tbody>\n",
       "</table>\n",
       "</div>"
      ],
      "text/plain": [
       "    Date_open Direction  Price_1_init  Price_2_init      Beta  Comission_init  \\\n",
       "0  2016-01-07     Short  16514.099609   1943.089966  1.280944               0   \n",
       "1  2016-01-12     Short  16516.220703   1938.680054  1.280944               0   \n",
       "2  2016-01-15     Short  15988.080078   1880.329956  1.280944               0   \n",
       "3  2016-01-21     Short  15882.679688   1868.989990  1.280944               0   \n",
       "4  2016-01-22     Short  16093.509766   1906.900024  1.280944               0   \n",
       "5  2016-01-27     Short  15944.459961   1882.949951  1.280944               0   \n",
       "6  2016-01-29     Short  16466.300781   1940.239990  1.280944               0   \n",
       "7  2016-02-01     Short  16449.179688   1939.380005  1.280908               0   \n",
       "8  2016-02-04     Short  16416.580078   1915.449951  1.280908               0   \n",
       "9  2016-02-09     Short  16014.379883   1852.209961  1.280908               0   \n",
       "10 2016-02-10     Short  15914.740234   1851.859985  1.280908               0   \n",
       "11 2016-02-11     Short  15660.179688   1829.079956  1.280908               0   \n",
       "12 2016-02-12     Short  15973.839844   1864.780029  1.280908               0   \n",
       "13 2016-02-16     Short  16196.410156   1895.579956  1.280908               0   \n",
       "14 2016-02-17     Short  16453.830078   1926.819946  1.280908               0   \n",
       "15 2016-02-22     Short  16620.660156   1945.500000  1.280908               0   \n",
       "16 2016-02-25     Short  16697.289063   1951.699951  1.280908               0   \n",
       "17 2016-02-26     Short  16639.970703   1948.050049  1.280908               0   \n",
       "18 2016-03-01     Short  16865.080078   1978.349976  1.280908               0   \n",
       "19 2016-07-08      Long  18146.740234   2129.899902  1.281213               0   \n",
       "20 2016-07-13      Long  18372.119141   2152.429932  1.281213               0   \n",
       "21 2016-07-14      Long  18506.410156   2163.750000  1.281213               0   \n",
       "22 2016-07-18      Long  18533.050781   2166.889893  1.281213               0   \n",
       "23 2016-07-20      Long  18595.029297   2173.020020  1.281213               0   \n",
       "24 2016-07-21      Long  18517.230469   2165.169922  1.281213               0   \n",
       "25 2016-07-26      Long  18473.750000   2169.179932  1.281213               0   \n",
       "26 2016-07-27      Long  18472.169922   2166.580078  1.281213               0   \n",
       "27 2017-11-30     Short  24272.349609   2647.580078  1.279781               0   \n",
       "28 2017-12-05     Short  24180.640625   2629.570068  1.279781               0   \n",
       "29 2017-12-06     Short  24140.910156   2629.270020  1.279781               0   \n",
       "30 2017-12-07     Short  24211.480469   2636.979980  1.279781               0   \n",
       "31 2017-12-08     Short  24329.160156   2651.500000  1.279781               0   \n",
       "32 2017-12-11     Short  24386.029297   2659.989990  1.279781               0   \n",
       "33 2017-12-14     Short  24508.660156   2652.010010  1.279781               0   \n",
       "34 2017-12-15     Short  24651.740234   2675.810059  1.279781               0   \n",
       "35 2017-12-18     Short  24792.199219   2690.159912  1.279781               0   \n",
       "36 2017-12-21     Short  24782.289063   2684.570068  1.279781               0   \n",
       "37 2017-12-22     Short  24754.060547   2683.340088  1.279781               0   \n",
       "38 2017-12-28     Short  24837.509766   2687.540039  1.279781               0   \n",
       "39 2018-04-04     Short  24264.300781   2644.689941  1.279864               0   \n",
       "40 2018-04-09     Short  23979.099609   2613.159912  1.279864               0   \n",
       "41 2018-04-10     Short  24408.000000   2656.870117  1.279864               0   \n",
       "42 2018-04-12     Short  24483.050781   2663.989990  1.279864               0   \n",
       "43 2018-05-30      Long  24667.779297   2724.010010  1.279971               0   \n",
       "44 2018-06-04      Long  24813.689453   2746.870117  1.280046               0   \n",
       "45 2018-06-06      Long  25146.390625   2772.350098  1.280046               0   \n",
       "46 2018-06-07      Long  25241.410156   2770.370117  1.280046               0   \n",
       "47 2018-06-12      Long  25320.730469   2786.850098  1.280046               0   \n",
       "48 2018-06-13      Long  25201.199219   2775.629883  1.280046               0   \n",
       "49 2018-06-18      Long  24987.470703   2773.750000  1.280046               0   \n",
       "50 2018-06-21      Long  24461.699219   2749.760010  1.280046               0   \n",
       "51 2018-06-22      Long  24580.890625   2754.879883  1.280046               0   \n",
       "52 2018-06-25      Long  24252.800781   2717.070068  1.280046               0   \n",
       "53 2018-06-27      Long  24117.589844   2699.629883  1.280046               0   \n",
       "54 2018-07-02      Long  24307.179688   2726.709961  1.280046               0   \n",
       "\n",
       "   Date_close    Type  Price_1_close  Price_2_close  Comission_close  Result  \n",
       "0  2016-01-12    Time   16516.220703    1938.680054                0 -0.0030  \n",
       "1  2016-01-15    Time   15988.080078    1880.329956                0 -0.0066  \n",
       "2  2016-01-21    Time   15882.679688    1868.989990                0 -0.0011  \n",
       "3  2016-01-22  Signal   16093.509766    1906.900024                0  0.0125  \n",
       "4  2016-01-27    Time   15944.459961    1882.949951                0 -0.0069  \n",
       "5  2016-01-29  Signal   16466.300781    1940.239990                0  0.0062  \n",
       "6  2016-02-01  Signal   16449.179688    1939.380005                0  0.0005  \n",
       "7  2016-02-04    Time   16416.580078    1915.449951                0 -0.0139  \n",
       "8  2016-02-09    Time   16014.379883    1852.209961                0 -0.0182  \n",
       "9  2016-02-10  Signal   15914.740234    1851.859985                0  0.0060  \n",
       "10 2016-02-11  Signal   15660.179688    1829.079956                0  0.0003  \n",
       "11 2016-02-12  Signal   15973.839844    1864.780029                0  0.0049  \n",
       "12 2016-02-16  Signal   16196.410156    1895.579956                0  0.0071  \n",
       "13 2016-02-17  Signal   16453.830078    1926.819946                0  0.0052  \n",
       "14 2016-02-22    Time   16620.660156    1945.500000                0  0.0023  \n",
       "15 2016-02-25    Time   16697.289063    1951.699951                0 -0.0005  \n",
       "16 2016-02-26  Signal   16639.970703    1948.050049                0  0.0010  \n",
       "17 2016-03-01  Signal   16865.080078    1978.349976                0  0.0063  \n",
       "18 2016-03-02  Signal   16899.320313    1986.449951                0  0.0032  \n",
       "19 2016-07-13    Time   18372.119141    2152.429932                0 -0.0011  \n",
       "20 2016-07-14  Signal   18506.410156    2163.750000                0  0.0006  \n",
       "21 2016-07-15  Signal   18516.550781    2161.739990                0  0.0017  \n",
       "22 2016-07-19  Signal   18559.009766    2163.780029                0  0.0032  \n",
       "23 2016-07-21  Signal   18517.230469    2165.169922                0  0.0004  \n",
       "24 2016-07-26    Time   18473.750000    2169.179932                0 -0.0047  \n",
       "25 2016-07-27  Signal   18472.169922    2166.580078                0  0.0015  \n",
       "26 2016-08-01    Time   18404.509766    2170.840088                0 -0.0062  \n",
       "27 2017-12-05    Time   24180.640625    2629.570068                0 -0.0049  \n",
       "28 2017-12-06  Signal   24140.910156    2629.270020                0  0.0015  \n",
       "29 2017-12-07  Signal   24211.480469    2636.979980                0  0.0008  \n",
       "30 2017-12-08  Signal   24329.160156    2651.500000                0  0.0022  \n",
       "31 2017-12-11  Signal   24386.029297    2659.989990                0  0.0018  \n",
       "32 2017-12-14    Time   24508.660156    2652.010010                0 -0.0089  \n",
       "33 2017-12-15  Signal   24651.740234    2675.810059                0  0.0056  \n",
       "34 2017-12-18  Signal   24792.199219    2690.159912                0  0.0012  \n",
       "35 2017-12-21    Time   24782.289063    2684.570068                0 -0.0023  \n",
       "36 2017-12-22  Signal   24754.060547    2683.340088                0  0.0006  \n",
       "37 2017-12-28    Time   24837.509766    2687.540039                0 -0.0014  \n",
       "38 2018-01-02  Signal   24824.009766    2695.810059                0  0.0045  \n",
       "39 2018-04-09    Time   23979.099609    2613.159912                0 -0.0035  \n",
       "40 2018-04-10  Signal   24408.000000    2656.870117                0  0.0035  \n",
       "41 2018-04-11  Signal   24189.449219    2642.189941                0  0.0019  \n",
       "42 2018-04-13  Signal   24360.140625    2656.300049                0  0.0013  \n",
       "43 2018-06-04    Time   24813.689453    2746.870117                0 -0.0048  \n",
       "44 2018-06-06  Signal   25146.390625    2772.350098                0  0.0015  \n",
       "45 2018-06-07  Signal   25241.410156    2770.370117                0  0.0047  \n",
       "46 2018-06-12    Time   25320.730469    2786.850098                0 -0.0045  \n",
       "47 2018-06-13  Signal   25201.199219    2775.629883                0  0.0004  \n",
       "48 2018-06-18    Time   24987.470703    2773.750000                0 -0.0076  \n",
       "49 2018-06-21    Time   24461.699219    2749.760010                0 -0.0101  \n",
       "50 2018-06-22  Signal   24580.890625    2754.879883                0  0.0025  \n",
       "51 2018-06-25  Signal   24252.800781    2717.070068                0  0.0043  \n",
       "52 2018-06-27  Signal   24117.589844    2699.629883                0  0.0027  \n",
       "53 2018-07-02    Time   24307.179688    2726.709961                0 -0.0049  \n",
       "54 2018-07-03  Signal   24174.820313    2713.219971                0  0.0009  "
      ]
     },
     "execution_count": 61,
     "metadata": {},
     "output_type": "execute_result"
    }
   ],
   "source": [
    "df"
   ]
  },
  {
   "cell_type": "code",
   "execution_count": 62,
   "metadata": {},
   "outputs": [
    {
     "data": {
      "text/plain": [
       "-10300.0"
      ]
     },
     "execution_count": 62,
     "metadata": {},
     "output_type": "execute_result"
    }
   ],
   "source": [
    "sum(df.Result*1000000) # результат стратегии"
   ]
  },
  {
   "cell_type": "code",
   "execution_count": 63,
   "metadata": {},
   "outputs": [
    {
     "data": {
      "image/png": "[encoded data removed]",
      "text/plain": [
       "<Figure size 1440x1080 with 1 Axes>"
      ]
     },
     "metadata": {},
     "output_type": "display_data"
    }
   ],
   "source": [
    "_=plt.figure(figsize=(20,15))\n",
    "_=plt.plot(Date,Instr_1,label='DJI')\n",
    "#_=plt.plot(Date,Instr_2,label='Fut_2')\n",
    "plt.plot(df.Date_open,df.Price_1_init,'bo',color='red',label='Open_position')\n",
    "__=plt.legend()"
   ]
  },
  {
   "cell_type": "markdown",
   "metadata": {
    "collapsed": true
   },
   "source": [
    "## Задание"
   ]
  },
  {
   "cell_type": "markdown",
   "metadata": {
    "collapsed": true
   },
   "source": [
    "### 1. Выбрать два актива, зависящих от сходных экономических факторов (или факторов риска).\n",
    "### 2. Протестировать стратегию статистического арбитража по аналогии с разобранным примером.\n",
    "### 3. Сделать выводы"
   ]
  }
 ],
 "metadata": {
  "kernelspec": {
   "display_name": "Python 2",
   "language": "python",
   "name": "python2"
  },
  "language_info": {
   "codemirror_mode": {
    "name": "ipython",
    "version": 2
   },
   "file_extension": ".py",
   "mimetype": "text/x-python",
   "name": "python",
   "nbconvert_exporter": "python",
   "pygments_lexer": "ipython2",
   "version": "2.7.15"
  }
 },
 "nbformat": 4,
 "nbformat_minor": 2
}
